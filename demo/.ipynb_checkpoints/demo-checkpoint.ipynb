{
 "cells": [
  {
   "cell_type": "code",
   "execution_count": 1,
   "id": "b4f6d3b6",
   "metadata": {},
   "outputs": [],
   "source": [
    "%load_ext autoreload\n",
    "%autoreload 2\n",
    "\n",
    "import numpy as np\n",
    "import sys\n",
    "sys.path.append(r'D:\\Py6S-Lite')\n",
    "from Py6S import *\n",
    "from sixs_plus import SixSPlus"
   ]
  },
  {
   "cell_type": "code",
   "execution_count": 8,
   "id": "6b9ebcbe",
   "metadata": {},
   "outputs": [],
   "source": [
    "s = SixSPlus(path=r'D:\\6S\\6SV1.1.exe')\n",
    "s.geometry.solar_z = 24.15\n",
    "s.geometry.solar_a = 142.13\n",
    "s.geometry.view_z = 7\n",
    "s.geometry.view_a = 107\n",
    "# Set the atmos profile\n",
    "s.atmos_profile = AtmosProfile.PredefinedType(AtmosProfile.MidlatitudeSummer)\n",
    "# Set the aerosol profile\n",
    "s.aero_profile = AeroProfile.PredefinedType(AeroProfile.Continental)\n",
    "# Set the aerosol opt. depth at 550nm\n",
    "s.aot550 = 0.1677    \n",
    "s.altitudes.set_sensor_custom_altitude(6)\n",
    "# ground reflectance\n",
    "s.ground_reflectance = GroundReflectance.HomogeneousLambertian(0.1)\n",
    "    \n",
    "def run_6s_plane(s,wl):\n",
    "    # set single wavelegnth in um\n",
    "    s.wavelength = Wavelength(wl-0.001,end_wavelength=wl+0.001)\n",
    "    # Run the model\n",
    "    s.run()\n",
    "    return s.outs()"
   ]
  },
  {
   "cell_type": "code",
   "execution_count": 10,
   "id": "ee6aa4d3",
   "metadata": {},
   "outputs": [],
   "source": [
    "\n",
    "wls = np.arange(550,560)/1000\n",
    "names = ['toa_atm_refl','down_gas_trans','up_gas_trans','down_scat_trans','up_scat_trans','total_sph_alb']\n",
    "outs = np.empty([len(names)+1,len(wls)],dtype=np.float32)\n",
    "outs[0,:] = wls\n",
    "\n",
    "for i in range(len(wls)):\n",
    "    out = run_6s_plane(r'D:\\6S\\6SV1.1.exe',aot550,wls[i])\n",
    "    for j in range(len(names)):\n",
    "        outs[1+j,i] = out[names[j]]\n",
    "\n",
    "dstfile = 'results.txt'\n",
    "with open(dstfile, mode='w', newline='') as f:\n",
    "    msg = 'wl'\n",
    "    for name in names:\n",
    "        msg += ','+name\n",
    "    f.write(msg+'\\n')\n",
    "    for i in range(len(wls)):\n",
    "        msg = '{:<.3f}'.format(wls[i])\n",
    "        for j in range(len(names)):\n",
    "            msg += ',{:<.5f}'.format(outs[1+j,i])\n",
    "        f.write(msg+'\\n')"
   ]
  },
  {
   "cell_type": "code",
   "execution_count": null,
   "id": "94dab2a3",
   "metadata": {},
   "outputs": [],
   "source": []
  }
 ],
 "metadata": {
  "kernelspec": {
   "display_name": "Python 3 (ipykernel)",
   "language": "python",
   "name": "python3"
  },
  "language_info": {
   "codemirror_mode": {
    "name": "ipython",
    "version": 3
   },
   "file_extension": ".py",
   "mimetype": "text/x-python",
   "name": "python",
   "nbconvert_exporter": "python",
   "pygments_lexer": "ipython3",
   "version": "3.10.11"
  }
 },
 "nbformat": 4,
 "nbformat_minor": 5
}
